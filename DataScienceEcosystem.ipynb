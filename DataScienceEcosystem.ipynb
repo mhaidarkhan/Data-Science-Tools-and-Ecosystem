{
 "cells": [
  {
   "cell_type": "markdown",
   "id": "db73998f-c405-482f-88c4-54836de465c7",
   "metadata": {},
   "source": [
    "# Data Science Tools and Ecosystem"
   ]
  },
  {
   "cell_type": "markdown",
   "id": "dccc392b-4a35-4354-b169-2bf820f49070",
   "metadata": {},
   "source": [
    "# Introduction\n",
    "\n",
    "In this notebook, we will provide a comprehensive overview and summary of the essential tools and ecosystem in the field of Data Science. From data collection and analysis to machine learning and visualization, we will explore the key components that make up the foundation of Data Science. Whether you're a beginner looking to start your journey in Data Science or an experienced practitioner seeking to enhance your skills, this notebook will serve as a valuable reference to navigate the diverse landscape of Data Science tools and techniques.\n"
   ]
  },
  {
   "cell_type": "markdown",
   "id": "d2a5af19-a3f7-47e1-aaa8-20a000c7d1c8",
   "metadata": {
    "tags": []
   },
   "source": [
    "# Data Science Languages\n",
    "\n",
    "Some of the popular languages that Data Scientists use are:\n",
    "\n",
    "1. Python\n",
    "2. R\n",
    "3. Julia\n",
    "4. SQL"
   ]
  },
  {
   "cell_type": "markdown",
   "id": "f88b5b33-1b92-4249-be8e-8e636f5df76a",
   "metadata": {},
   "source": [
    "# Data Science Libraries\n",
    "\n",
    "Some of the commonly used libraries used by Data Scientists include:\n",
    "\n",
    "1. NumPy: A fundamental package for scientific computing with Python, providing support for arrays and matrices.\n",
    "\n",
    "2. Pandas: A powerful data manipulation and analysis library, often used for data cleaning, exploration, and transformation.\n",
    "\n",
    "3. Matplotlib: A versatile plotting library for creating static, animated, or interactive visualizations in Python.\n",
    "\n",
    "4. Scikit-Learn: A machine learning library that provides simple and efficient tools for data analysis and modeling.\n",
    "\n",
    "5. TensorFlow: An open-source machine learning framework developed by Google for deep learning tasks.\n",
    "\n",
    "6. Keras: A high-level neural networks API, often used in conjunction with TensorFlow, for building and training deep learning models.\n"
   ]
  },
  {
   "cell_type": "markdown",
   "id": "ef84cb72-f176-45ac-a2a4-13705f936792",
   "metadata": {},
   "source": [
    "# Data Science Tools\n",
    "\n",
    "| Data Science Tools          |\n",
    "|-----------------------------|\n",
    "| 1. Jupyter Notebook         |\n",
    "| 2. RStudio                   |\n",
    "| 3. Visual Studio Code (VS Code) |\n"
   ]
  },
  {
   "cell_type": "markdown",
   "id": "a488249c-3939-4824-bf44-fd96db2f7471",
   "metadata": {},
   "source": [
    "### Examples of Evaluating Arithmetic Expressions in Python\n",
    "\n",
    "Below are a few examples of how to evaluate arithmetic expressions using Python. We will explore various mathematical operations and demonstrate how Python handles them.\n"
   ]
  },
  {
   "cell_type": "code",
   "execution_count": 3,
   "id": "01658591-0516-46bb-9566-aa0d13d6bfa8",
   "metadata": {
    "tags": []
   },
   "outputs": [
    {
     "data": {
      "text/plain": [
       "17"
      ]
     },
     "execution_count": 3,
     "metadata": {},
     "output_type": "execute_result"
    }
   ],
   "source": [
    "# This is a simple arithmetic expression to multiply and then add integers.\n",
    "result = (3 * 4) + 5\n",
    "result\n"
   ]
  },
  {
   "cell_type": "code",
   "execution_count": 4,
   "id": "fa9d5cc4-b511-4906-b2ab-4ee341d38b64",
   "metadata": {
    "tags": []
   },
   "outputs": [
    {
     "data": {
      "text/plain": [
       "3.3333333333333335"
      ]
     },
     "execution_count": 4,
     "metadata": {},
     "output_type": "execute_result"
    }
   ],
   "source": [
    "# This will convert 200 minutes to hours by dividing by 60.\n",
    "minutes = 200\n",
    "hours = minutes / 60\n",
    "hours\n"
   ]
  },
  {
   "cell_type": "markdown",
   "id": "369ddc9f-1740-4b1e-8293-6cee626c2797",
   "metadata": {},
   "source": [
    "# Objectives:\n",
    "\n",
    "- List popular languages for Data Science.\n",
    "- Introduce commonly used libraries in Data Science.\n",
    "- Provide an overview of Data Science development environment tools.\n",
    "- Demonstrate evaluation of arithmetic expressions in Python.\n",
    "- Convert minutes to hours using Python.\n"
   ]
  },
  {
   "cell_type": "markdown",
   "id": "a0b1d706-adbe-4a47-8a53-e6f682b43007",
   "metadata": {},
   "source": [
    "## Author\n",
    "\n",
    "Muhammad Haidar Khan\n"
   ]
  },
  {
   "cell_type": "code",
   "execution_count": null,
   "id": "9573a0b9-7b7e-44af-ba15-2a3d06e8b3a7",
   "metadata": {},
   "outputs": [],
   "source": []
  }
 ],
 "metadata": {
  "kernelspec": {
   "display_name": "Python",
   "language": "python",
   "name": "conda-env-python-py"
  },
  "language_info": {
   "codemirror_mode": {
    "name": "ipython",
    "version": 3
   },
   "file_extension": ".py",
   "mimetype": "text/x-python",
   "name": "python",
   "nbconvert_exporter": "python",
   "pygments_lexer": "ipython3",
   "version": "3.7.12"
  }
 },
 "nbformat": 4,
 "nbformat_minor": 5
}
